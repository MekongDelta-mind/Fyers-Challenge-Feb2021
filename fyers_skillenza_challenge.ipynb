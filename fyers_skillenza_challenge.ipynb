{
  "nbformat": 4,
  "nbformat_minor": 0,
  "metadata": {
    "kernelspec": {
      "display_name": "Python 3",
      "language": "python",
      "name": "python3"
    },
    "language_info": {
      "codemirror_mode": {
        "name": "ipython",
        "version": 3
      },
      "file_extension": ".py",
      "mimetype": "text/x-python",
      "name": "python",
      "nbconvert_exporter": "python",
      "pygments_lexer": "ipython3",
      "version": "3.7.6"
    },
    "colab": {
      "name": "fyers_skillenza_challenge.ipynb",
      "provenance": []
    }
  },
  "cells": [
    {
      "cell_type": "code",
      "metadata": {
        "id": "9zF77oIQ65Dk"
      },
      "source": [
        "# Jovian Commit Essentials\n",
        "# Please retain and execute this cell without modifying the contents for `jovian.commit` to work\n",
        "!pip install jovian --upgrade -q\n",
        "import jovian\n",
        "jovian.set_project('feb2021-fyers-challenge')\n",
        "jovian.set_colab_id('1VTODGd7Wm6vUdTuLL-1TvASKFyEg62w9')"
      ],
      "execution_count": 1,
      "outputs": []
    },
    {
      "cell_type": "code",
      "metadata": {
        "id": "9J5o63fg65Du"
      },
      "source": [
        "!pip install jovian --upgrade --quiet"
      ],
      "execution_count": 2,
      "outputs": []
    },
    {
      "cell_type": "code",
      "metadata": {
        "id": "m2iQmsKm7hTx"
      },
      "source": [
        "#Checking reading of the csv file using the pandas dataframe\r\n",
        "import pandas as pd\r\n",
        "data = pd.read_csv('/content/sample_data/airlines.csv')\r\n"
      ],
      "execution_count": 3,
      "outputs": []
    },
    {
      "cell_type": "code",
      "metadata": {
        "colab": {
          "base_uri": "https://localhost:8080/",
          "height": 206
        },
        "id": "krYV9sm48nAV",
        "outputId": "236e409c-f23b-4bb6-ef23-df5e8181bd8c"
      },
      "source": [
        "data.head(5)"
      ],
      "execution_count": 4,
      "outputs": [
        {
          "output_type": "execute_result",
          "data": {
            "text/html": [
              "<div>\n",
              "<style scoped>\n",
              "    .dataframe tbody tr th:only-of-type {\n",
              "        vertical-align: middle;\n",
              "    }\n",
              "\n",
              "    .dataframe tbody tr th {\n",
              "        vertical-align: top;\n",
              "    }\n",
              "\n",
              "    .dataframe thead th {\n",
              "        text-align: right;\n",
              "    }\n",
              "</style>\n",
              "<table border=\"1\" class=\"dataframe\">\n",
              "  <thead>\n",
              "    <tr style=\"text-align: right;\">\n",
              "      <th></th>\n",
              "      <th>Airport.Code</th>\n",
              "      <th>Airport.Name</th>\n",
              "      <th>Time.Year</th>\n",
              "      <th>Statistics.Flights.Cancelled</th>\n",
              "    </tr>\n",
              "  </thead>\n",
              "  <tbody>\n",
              "    <tr>\n",
              "      <th>0</th>\n",
              "      <td>ATL</td>\n",
              "      <td>Atlanta, GA: Hartsfield-Jackson Atlanta Intern...</td>\n",
              "      <td>2003</td>\n",
              "      <td>216</td>\n",
              "    </tr>\n",
              "    <tr>\n",
              "      <th>1</th>\n",
              "      <td>BOS</td>\n",
              "      <td>Boston, MA: Logan International</td>\n",
              "      <td>2003</td>\n",
              "      <td>138</td>\n",
              "    </tr>\n",
              "    <tr>\n",
              "      <th>2</th>\n",
              "      <td>BWI</td>\n",
              "      <td>Baltimore, MD: Baltimore/Washington Internatio...</td>\n",
              "      <td>2003</td>\n",
              "      <td>29</td>\n",
              "    </tr>\n",
              "    <tr>\n",
              "      <th>3</th>\n",
              "      <td>CLT</td>\n",
              "      <td>Charlotte, NC: Charlotte Douglas International</td>\n",
              "      <td>2003</td>\n",
              "      <td>73</td>\n",
              "    </tr>\n",
              "    <tr>\n",
              "      <th>4</th>\n",
              "      <td>DCA</td>\n",
              "      <td>Washington, DC: Ronald Reagan Washington National</td>\n",
              "      <td>2003</td>\n",
              "      <td>74</td>\n",
              "    </tr>\n",
              "  </tbody>\n",
              "</table>\n",
              "</div>"
            ],
            "text/plain": [
              "  Airport.Code  ... Statistics.Flights.Cancelled\n",
              "0          ATL  ...                          216\n",
              "1          BOS  ...                          138\n",
              "2          BWI  ...                           29\n",
              "3          CLT  ...                           73\n",
              "4          DCA  ...                           74\n",
              "\n",
              "[5 rows x 4 columns]"
            ]
          },
          "metadata": {
            "tags": []
          },
          "execution_count": 4
        }
      ]
    },
    {
      "cell_type": "code",
      "metadata": {
        "colab": {
          "base_uri": "https://localhost:8080/",
          "height": 146
        },
        "id": "kJF_pHDk8pzE",
        "outputId": "5e5fe362-2db3-4910-b57f-74a05eb53677"
      },
      "source": [
        "jovian.commit()"
      ],
      "execution_count": 5,
      "outputs": [
        {
          "output_type": "stream",
          "text": [
            "[jovian] Detected Colab notebook...\u001b[0m\n",
            "[jovian] Please enter your API key ( from https://jovian.ai/ ):\u001b[0m\n",
            "API KEY: ··········\n",
            "[jovian] Uploading colab notebook to Jovian...\u001b[0m\n",
            "[jovian] Capturing environment..\u001b[0m\n",
            "[jovian] Committed successfully! https://jovian.ai/pknayak0707-job/feb2021-fyers-challenge\u001b[0m\n"
          ],
          "name": "stdout"
        },
        {
          "output_type": "execute_result",
          "data": {
            "application/vnd.google.colaboratory.intrinsic+json": {
              "type": "string"
            },
            "text/plain": [
              "'https://jovian.ai/pknayak0707-job/feb2021-fyers-challenge'"
            ]
          },
          "metadata": {
            "tags": []
          },
          "execution_count": 5
        }
      ]
    },
    {
      "cell_type": "markdown",
      "metadata": {
        "id": "xfG6RCDOJdyS"
      },
      "source": [
        "# The code(Solution) for the challenge starts from here onwards"
      ]
    },
    {
      "cell_type": "markdown",
      "metadata": {
        "id": "-4ySbOW786oj"
      },
      "source": [
        "Use Python to perform below\r\n",
        "\r\n",
        "    Open the file using python\r\n",
        "    Read every line in the file\r\n",
        "    Output 1: Get list of unique airport names and number of times it is repeated in a json format\r\n",
        "    Output 2: Which airport is mentioned highest number of times and its count\r\n",
        "    Output 3: Which airport is mentioned lowest number of times and its count\r\n",
        "    Print the outputs "
      ]
    },
    {
      "cell_type": "code",
      "metadata": {
        "id": "lN3fB7iH8yOO"
      },
      "source": [
        "import csv\r\n",
        "airport_names = []\r\n",
        "\r\n",
        "#Open the file using python\r\n",
        "with open('/content/sample_data/airlines.csv') as csv_file:\r\n",
        "# the path should be changed to the path where the file is present\r\n",
        "# in google colab the path should be '/content/sample_data/airlines.csv'\r\n",
        "# when running in local system the path should be '/airlines.csv'\r\n",
        "\r\n",
        "  reader = csv.reader(csv_file)\r\n",
        "  for row in reader:\r\n",
        "    #Read every line in the file in converting each into list containing the vlaues\r\n",
        "    #print(row[1])\r\n",
        "    airport_names.append(row[1])\r\n"
      ],
      "execution_count": 41,
      "outputs": []
    },
    {
      "cell_type": "code",
      "metadata": {
        "id": "1mUvlWWB9N75"
      },
      "source": [
        "#counting the occurences of the the airports\r\n",
        "temp=set(airport_names)\r\n",
        "result={}\r\n",
        "for i in temp:\r\n",
        "    result[i]=airport_names.count(i)\r\n",
        "#print(type(result))"
      ],
      "execution_count": 43,
      "outputs": []
    },
    {
      "cell_type": "code",
      "metadata": {
        "id": "mfXuarXgBxGv"
      },
      "source": [
        "#sorting the dictionary\r\n",
        "sorted_result = {}\r\n",
        "sorted_keys = sorted(result, key=result.get)  # [1, 3, 2]\r\n",
        "\r\n",
        "for w in sorted_keys:\r\n",
        "    sorted_result[w] = result[w]\r\n",
        "  \r\n",
        "#print(sorted_result)"
      ],
      "execution_count": 45,
      "outputs": []
    },
    {
      "cell_type": "code",
      "metadata": {
        "colab": {
          "base_uri": "https://localhost:8080/"
        },
        "id": "na9zW8s7AchX",
        "outputId": "cc0b1ab2-8e86-4901-afe3-7d872a7be6ac"
      },
      "source": [
        "import json\r\n",
        "json_object = json.dumps(sorted_result, indent = 4)\r\n",
        "print('List of unique airport names and number of times it is repeated in a json format')\r\n",
        "print(json_object)"
      ],
      "execution_count": 46,
      "outputs": [
        {
          "output_type": "stream",
          "text": [
            "List of unique airport names and number of times it is repeated in a json format\n",
            "{\n",
            "    \"Airport.Name\": 1,\n",
            "    \"Phoenix, AZ: Phoenix Sky Harbor International\": 137,\n",
            "    \"San Francisco, CA: San Francisco International\": 149,\n",
            "    \"Salt Lake City, UT: Salt Lake City International\": 149,\n",
            "    \"Seattle, WA: Seattle/Tacoma International\": 149,\n",
            "    \"Portland, OR: Portland International\": 149,\n",
            "    \"Philadelphia, PA: Philadelphia International\": 149,\n",
            "    \"San Diego, CA: San Diego International\": 149,\n",
            "    \"Tampa, FL: Tampa International\": 149,\n",
            "    \"Los Angeles, CA: Los Angeles International\": 150,\n",
            "    \"Washington, DC: Washington Dulles International\": 150,\n",
            "    \"Boston, MA: Logan International\": 150,\n",
            "    \"Detroit, MI: Detroit Metro Wayne County\": 150,\n",
            "    \"Orlando, FL: Orlando International\": 150,\n",
            "    \"Baltimore, MD: Baltimore/Washington International Thurgood Marshall\": 150,\n",
            "    \"Dallas/Fort Worth, TX: Dallas/Fort Worth International\": 150,\n",
            "    \"Minneapolis, MN: Minneapolis-St Paul International\": 150,\n",
            "    \"New York, NY: LaGuardia\": 150,\n",
            "    \"Fort Lauderdale, FL: Fort Lauderdale-Hollywood International\": 150,\n",
            "    \"Chicago, IL: Chicago O'Hare International\": 150,\n",
            "    \"Las Vegas, NV: McCarran International\": 150,\n",
            "    \"Houston, TX: George Bush Intercontinental/Houston\": 150,\n",
            "    \"Miami, FL: Miami International\": 150,\n",
            "    \"Denver, CO: Denver International\": 150,\n",
            "    \"Charlotte, NC: Charlotte Douglas International\": 150,\n",
            "    \"Chicago, IL: Chicago Midway International\": 150,\n",
            "    \"Washington, DC: Ronald Reagan Washington National\": 150,\n",
            "    \"New York, NY: John F. Kennedy International\": 150,\n",
            "    \"Newark, NJ: Newark Liberty International\": 150,\n",
            "    \"Atlanta, GA: Hartsfield-Jackson Atlanta International\": 154\n",
            "}\n"
          ],
          "name": "stdout"
        }
      ]
    },
    {
      "cell_type": "code",
      "metadata": {
        "colab": {
          "base_uri": "https://localhost:8080/"
        },
        "id": "Wc9G7QErF6G2",
        "outputId": "1a5bfe82-e65e-48b5-af13-90d1c7371f30"
      },
      "source": [
        "print('“Name and count of the airport which is mentioned the most number of time” : {0} and {1} respectively'.format(list(sorted_result)[-1],sorted_result[list(sorted_result)[-1]]))\r\n",
        "print('“Name and count of the airport which is mentioned the least number of time” : {0} and {1} respectively'.format(list(sorted_result)[1],sorted_result[list(sorted_result)[1]])) #least number of time occurred"
      ],
      "execution_count": 47,
      "outputs": [
        {
          "output_type": "stream",
          "text": [
            "“Name and count of the airport which is mentioned the most number of time” : Atlanta, GA: Hartsfield-Jackson Atlanta International and 154 respectively\n",
            "“Name and count of the airport which is mentioned the least number of time” : Phoenix, AZ: Phoenix Sky Harbor International and 137 respectively\n"
          ],
          "name": "stdout"
        }
      ]
    },
    {
      "cell_type": "code",
      "metadata": {
        "id": "T1dgR5H2CyiB"
      },
      "source": [
        ""
      ],
      "execution_count": null,
      "outputs": []
    }
  ]
}